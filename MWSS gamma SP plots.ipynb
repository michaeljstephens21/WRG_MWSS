{
 "cells": [
  {
   "cell_type": "code",
   "execution_count": 10,
   "metadata": {
    "collapsed": false
   },
   "outputs": [
    {
     "name": "stdout",
     "output_type": "stream",
     "text": [
      "Number of wells: 4\n"
     ]
    },
    {
     "data": {
      "text/html": [
       "<div>\n",
       "<table border=\"1\" class=\"dataframe\">\n",
       "  <thead>\n",
       "    <tr style=\"text-align: right;\">\n",
       "      <th></th>\n",
       "      <th>well_num</th>\n",
       "      <th>wellID</th>\n",
       "      <th>latitude</th>\n",
       "      <th>longitude</th>\n",
       "      <th>start_depth</th>\n",
       "      <th>stop_depth</th>\n",
       "      <th>field</th>\n",
       "      <th>glogs</th>\n",
       "    </tr>\n",
       "  </thead>\n",
       "  <tbody>\n",
       "    <tr>\n",
       "      <th>415</th>\n",
       "      <td>40295495700</td>\n",
       "      <td>17S0290</td>\n",
       "      <td>35.140679</td>\n",
       "      <td>-119.529631</td>\n",
       "      <td>30.0</td>\n",
       "      <td>638.0</td>\n",
       "      <td>MIDWAY-SUNSET</td>\n",
       "      <td>['CALI', 'DPHI', 'DRES', 'GR', 'NPHI', 'SP', '...</td>\n",
       "    </tr>\n",
       "    <tr>\n",
       "      <th>416</th>\n",
       "      <td>40296101900</td>\n",
       "      <td>17S0291</td>\n",
       "      <td>35.140345</td>\n",
       "      <td>-119.529130</td>\n",
       "      <td>48.0</td>\n",
       "      <td>620.0</td>\n",
       "      <td>MIDWAY-SUNSET</td>\n",
       "      <td>['DRES', 'GR', 'SP', 'SRES']</td>\n",
       "    </tr>\n",
       "    <tr>\n",
       "      <th>423</th>\n",
       "      <td>40296102300</td>\n",
       "      <td>17S0307</td>\n",
       "      <td>35.140710</td>\n",
       "      <td>-119.528511</td>\n",
       "      <td>45.0</td>\n",
       "      <td>573.0</td>\n",
       "      <td>MIDWAY-SUNSET</td>\n",
       "      <td>['DRES', 'GR', 'SP']</td>\n",
       "    </tr>\n",
       "    <tr>\n",
       "      <th>428</th>\n",
       "      <td>40296123400</td>\n",
       "      <td>17S0320</td>\n",
       "      <td>35.142030</td>\n",
       "      <td>-119.530198</td>\n",
       "      <td>34.0</td>\n",
       "      <td>616.0</td>\n",
       "      <td>MIDWAY-SUNSET</td>\n",
       "      <td>['DRES', 'GR', 'SP', 'SRES']</td>\n",
       "    </tr>\n",
       "  </tbody>\n",
       "</table>\n",
       "</div>"
      ],
      "text/plain": [
       "        well_num   wellID   latitude   longitude  start_depth  stop_depth  \\\n",
       "415  40295495700  17S0290  35.140679 -119.529631         30.0       638.0   \n",
       "416  40296101900  17S0291  35.140345 -119.529130         48.0       620.0   \n",
       "423  40296102300  17S0307  35.140710 -119.528511         45.0       573.0   \n",
       "428  40296123400  17S0320  35.142030 -119.530198         34.0       616.0   \n",
       "\n",
       "             field                                              glogs  \n",
       "415  MIDWAY-SUNSET  ['CALI', 'DPHI', 'DRES', 'GR', 'NPHI', 'SP', '...  \n",
       "416  MIDWAY-SUNSET                       ['DRES', 'GR', 'SP', 'SRES']  \n",
       "423  MIDWAY-SUNSET                               ['DRES', 'GR', 'SP']  \n",
       "428  MIDWAY-SUNSET                       ['DRES', 'GR', 'SP', 'SRES']  "
      ]
     },
     "execution_count": 10,
     "metadata": {},
     "output_type": "execute_result"
    }
   ],
   "source": [
    "#% matplotlib inline\n",
    "import pandas as pd\n",
    "import numpy as np\n",
    "from matplotlib import pyplot as plt\n",
    "import glob\n",
    "from matplotlib.ticker import MultipleLocator, FormatStrFormatter\n",
    "\n",
    "# read in meta data file for MWSS\n",
    "filename='meta data for MWSS.csv'\n",
    "df=pd.read_csv(filename, header=0, sep=',')\n",
    "\n",
    "# dataframe of only wells with gamma and SP\n",
    "df2=df.loc[(df.glogs.str.contains('GR') & (df.glogs.str.contains('SP')))]\n",
    "\n",
    "# narrow down df2 by depths\n",
    "df3=df2.loc[(df2.start_depth <= 50) & (df2.stop_depth <= 650)]\n",
    "print 'Number of wells:', len(df3)\n",
    "\n",
    "df3.head()"
   ]
  },
  {
   "cell_type": "code",
   "execution_count": 11,
   "metadata": {
    "collapsed": false
   },
   "outputs": [],
   "source": [
    "# plotting fuction\n",
    "\n",
    "def gamma_SP_plot(filename):\n",
    "    \n",
    "    # make a dataframe\n",
    "    f=open(filename)\n",
    "    lines=f.readlines()\n",
    "    f.close()  \n",
    "    counter=0 \n",
    "    for line in lines: \n",
    "        l=line.strip().split()\n",
    "        if l[0]=='~A':\n",
    "            counter\n",
    "            break\n",
    "        else:\n",
    "            counter = counter + 1\n",
    "    line = lines[counter].strip().split()\n",
    "    names = line[1:]\n",
    "    APInum = lines[20].strip().split()  \n",
    "    df = pd.read_table(filename, skiprows = counter+1, names=names, sep = '\\s+')   \n",
    "    df[df < -990.00] = None\n",
    "    \n",
    "    # skips shallow depths\n",
    "    #df = df.loc[(df.DEPTH >= min(df.DEPTH) + 150)]\n",
    "    \n",
    "    # plot gamma and SP\n",
    "    fig, ax1 = plt.subplots(figsize=(17,6))\n",
    "    plt.grid()\n",
    "    plt.title('MWSS gamma and SP\\nAPI:0{}'.format(APInum[2][3:-3]), x=0.5, y=1.07, fontsize=17)\n",
    "    \n",
    "    ax2 = ax1.twinx()\n",
    "    ax1.plot(df.DEPTH, df.SP, 'b')\n",
    "    ax2.plot(df.DEPTH, df.GR, 'r')\n",
    "    \n",
    "    ax1.set_xlabel('Depth (ft)')\n",
    "    ax1.set_ylabel('SP (mV)', color='b', size=13)\n",
    "    ax2.set_ylabel('Gamma (GAPI)', color='r', size=13)\n",
    "    \n",
    "    # more ticks and grids\n",
    "    ax1.xaxis.set_major_locator(MultipleLocator(50.0))\n",
    "    ax1.xaxis.set_major_formatter(FormatStrFormatter('%i'))\n",
    "    \n",
    "    plt.tight_layout()\n",
    "    plt.show()"
   ]
  },
  {
   "cell_type": "code",
   "execution_count": 18,
   "metadata": {
    "collapsed": false
   },
   "outputs": [],
   "source": [
    "# try it out on one\n",
    "#gamma_SP_plot('17S0778_OH_MWSS.las')"
   ]
  },
  {
   "cell_type": "code",
   "execution_count": 12,
   "metadata": {
    "collapsed": false
   },
   "outputs": [],
   "source": [
    "# grab all well files in folder\n",
    "files=glob.glob('*.las')\n",
    "\n",
    "# well IDs for the ones we want\n",
    "wells=np.array(df3.wellID)\n",
    "\n",
    "# these loops find if the wellID is in the filename and if so, runs the plotting function \n",
    "try:\n",
    "    for g in files:\n",
    "        for gg in wells:\n",
    "            if gg in g:\n",
    "                gamma_SP_plot(g)\n",
    "except AttributeError:\n",
    "    print g"
   ]
  },
  {
   "cell_type": "code",
   "execution_count": null,
   "metadata": {
    "collapsed": true
   },
   "outputs": [],
   "source": []
  }
 ],
 "metadata": {
  "kernelspec": {
   "display_name": "Python 2",
   "language": "python",
   "name": "python2"
  },
  "language_info": {
   "codemirror_mode": {
    "name": "ipython",
    "version": 2
   },
   "file_extension": ".py",
   "mimetype": "text/x-python",
   "name": "python",
   "nbconvert_exporter": "python",
   "pygments_lexer": "ipython2",
   "version": "2.7.9"
  }
 },
 "nbformat": 4,
 "nbformat_minor": 0
}
